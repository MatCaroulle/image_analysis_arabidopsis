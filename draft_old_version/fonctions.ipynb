{
 "cells": [
  {
   "cell_type": "code",
   "execution_count": 1,
   "metadata": {},
   "outputs": [],
   "source": [
    "#from skimage import feature, color, filters, measure, io\n",
    "#import cv2\n",
    "#import numpy as np\n",
    "#from scipy.ndimage import distance_transform_edt\n",
    "#from skimage.io import imread\n",
    "#import matplotlib.pyplot as plt\n",
    "#from scipy import ndimage as nd\n",
    "#from skimage.color import label2rgb\n",
    "#import pandas as pd\n",
    "#import cv2\n",
    "#import numpy as np\n",
    "#import scipy.ndimage as nd\n",
    "#from skimage import io\n",
    "#import numpy as np\n",
    "#import scipy.ndimage as nd\n",
    "#import numpy as np\n",
    "#from skimage import feature\n",
    "#from scipy.ndimage import distance_transform_edt\n",
    "\n",
    "import cv2\n",
    "import numpy as np\n",
    "import scipy.ndimage as nd\n",
    "from skimage import io, feature\n",
    "from scipy.ndimage import distance_transform_edt\n",
    "import matplotlib.pyplot as plt\n",
    "from skimage.color import label2rgb\n",
    "import pandas as pd\n"
   ]
  }
 ],
 "metadata": {
  "kernelspec": {
   "display_name": "PhenoLeaf",
   "language": "python",
   "name": "python3"
  },
  "language_info": {
   "codemirror_mode": {
    "name": "ipython",
    "version": 3
   },
   "file_extension": ".py",
   "mimetype": "text/x-python",
   "name": "python",
   "nbconvert_exporter": "python",
   "pygments_lexer": "ipython3",
   "version": "3.11.3"
  },
  "orig_nbformat": 4
 },
 "nbformat": 4,
 "nbformat_minor": 2
}
